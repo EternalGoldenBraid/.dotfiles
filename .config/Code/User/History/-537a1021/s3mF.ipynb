{
 "cells": [
  {
   "cell_type": "code",
   "execution_count": 1,
   "metadata": {},
   "outputs": [],
   "source": [
    "import pandas as pd"
   ]
  },
  {
   "cell_type": "code",
   "execution_count": 4,
   "metadata": {},
   "outputs": [],
   "source": [
    "# filename = 'data/myfile.csv'\n",
    "filename = 'data/crimes.csv'\n",
    "# df = pd.read_csv(filename, encoding='utf-8')\n",
    "df = pd.read_csv(filename, encoding='unicode_escape')\n"
   ]
  },
  {
   "cell_type": "code",
   "execution_count": 6,
   "metadata": {},
   "outputs": [
    {
     "name": "stdout",
     "output_type": "stream",
     "text": [
      "                                                                                                                                                                                                                                                                                                                                                                                13gc -- Kiinnioton, pidätyksen, vangitsemisen ja ulkomaalaisen säilöönoton kesto poliisilaitoksittain, 2004-2022\n",
      "Vuosi Pakkokeino Viranomainen          Päärikos tai muu asia                              Kesto alle 1 vrk Kesto 1-1,9 vrk Kesto 2-2,9 vrk Kesto 3-3,9 vrk Kesto 4-4,9 vrk Kesto 5-5,9 vrk Kesto 6-6,9 vrk Kesto 1-1,9 viikkoa Kesto 2-2,9 viikkoa Kesto 3 viikkoa Kesto 1-1,9 kk Kesto 2-2,9 kk Kesto 3 kk ja yli Kesto ei tietoa Kiinniotto vrk:t Pidätys vrk:t Vankeus vrk:t                   Ulkomaalaisen säilössäpito vrk:t                                                              \n",
      "2021  YHTEENSÄ   Viranomaiset yhteensä Rikokset, rikkomukset ja viranomaisten tehtävät... 21155            3670            2122            1206            475             205             332             465                 173                 67              113            32             35                136             36602            14120         8169                                                        7896                                                              \n",
      "                                       RIKOKSET JA RIKKOMUKSET YHTEENSÄ                   20083            3093            1699            836             227             161             293             280                 98                  18              6              2              10                103             23567            14020         8144                                                           0                                                              \n",
      "                                       1 RIKOSLAKIRIKOKSET                                20082            3093            1699            836             227             161             293             280                 98                  18              6              2              10                103             23567            14019         8144                                                           0                                                              \n",
      "                                       11 Omaisuusrikokset                                6531             1276            689             330             89              73              113             90                  37                  0               0              0              1                 17              7717             5276          2389                                                           0                                                              \n",
      "Index(['13gc -- Kiinnioton, pidätyksen, vangitsemisen ja ulkomaalaisen säilöönoton kesto poliisilaitoksittain, 2004-2022'], dtype='object')\n"
     ]
    }
   ],
   "source": [
    "print(df.head())\n",
    "print(df.columns)"
   ]
  }
 ],
 "metadata": {
  "kernelspec": {
   "display_name": "math",
   "language": "python",
   "name": "python3"
  },
  "language_info": {
   "codemirror_mode": {
    "name": "ipython",
    "version": 3
   },
   "file_extension": ".py",
   "mimetype": "text/x-python",
   "name": "python",
   "nbconvert_exporter": "python",
   "pygments_lexer": "ipython3",
   "version": "3.8.13"
  },
  "orig_nbformat": 4
 },
 "nbformat": 4,
 "nbformat_minor": 2
}
