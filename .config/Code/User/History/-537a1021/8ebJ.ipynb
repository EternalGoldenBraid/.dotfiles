{
 "cells": [
  {
   "cell_type": "code",
   "execution_count": 1,
   "metadata": {},
   "outputs": [],
   "source": [
    "import pandas as pd"
   ]
  },
  {
   "cell_type": "code",
   "execution_count": 11,
   "metadata": {},
   "outputs": [],
   "source": [
    "# filename = 'data/myfile.csv'\n",
    "filename = 'data/crimes.csv'\n",
    "# df = pd.read_csv(filename, encoding='utf-8')\n",
    "df = pd.read_csv(filename, encoding='unicode_escape', header=1)\n"
   ]
  },
  {
   "cell_type": "code",
   "execution_count": 14,
   "metadata": {},
   "outputs": [
    {
     "name": "stdout",
     "output_type": "stream",
     "text": [
      "Index(['Vuosi', 'Pakkokeino', 'Viranomainen', 'Päärikos tai muu asia',\n",
      "       'Kesto alle 1 vrk', 'Kesto 1-1,9 vrk', 'Kesto 2-2,9 vrk',\n",
      "       'Kesto 3-3,9 vrk', 'Kesto 4-4,9 vrk', 'Kesto 5-5,9 vrk',\n",
      "       'Kesto 6-6,9 vrk', 'Kesto 1-1,9 viikkoa', 'Kesto 2-2,9 viikkoa',\n",
      "       'Kesto 3 viikkoa', 'Kesto 1-1,9 kk', 'Kesto 2-2,9 kk',\n",
      "       'Kesto 3 kk ja yli', 'Kesto ei tietoa', 'Kiinniotto vrk:t',\n",
      "       'Pidätys vrk:t', 'Vankeus vrk:t', 'Ulkomaalaisen säilössäpito vrk:t'],\n",
      "      dtype='object')\n",
      "Viranomaiset yhteensä            1080\n",
      "Keskusrikospoliisi               1080\n",
      "Helsingin poliisilaitos          1080\n",
      "Länsi-Uudenmaan poliisilaitos    1080\n",
      "Itä-Uudenmaan poliisilaitos      1080\n",
      "Hämeen poliisilaitos             1080\n",
      "Kaakkois-Suomen poliisilaitos    1080\n",
      "Lounais-Suomen poliisilaitos     1080\n",
      "Sisä-Suomen poliisilaitos        1080\n",
      "Pohjanmaan poliisilaitos         1080\n",
      "Itä-Suomen poliisilaitos         1080\n",
      "Oulun poliisilaitos              1080\n",
      "Lapin poliisilaitos              1080\n",
      "Ahvenanmaan poliisilaitos        1080\n",
      "Name: Viranomainen, dtype: int64\n"
     ]
    }
   ],
   "source": [
    "# print(df.head())\n",
    "print(df.columns)\n",
    "\n",
    "viranomaiset = df['Viranomainen'].value_counts()\n",
    "print(viranomaiset)"
   ]
  }
 ],
 "metadata": {
  "kernelspec": {
   "display_name": "math",
   "language": "python",
   "name": "python3"
  },
  "language_info": {
   "codemirror_mode": {
    "name": "ipython",
    "version": 3
   },
   "file_extension": ".py",
   "mimetype": "text/x-python",
   "name": "python",
   "nbconvert_exporter": "python",
   "pygments_lexer": "ipython3",
   "version": "3.8.13"
  },
  "orig_nbformat": 4
 },
 "nbformat": 4,
 "nbformat_minor": 2
}
