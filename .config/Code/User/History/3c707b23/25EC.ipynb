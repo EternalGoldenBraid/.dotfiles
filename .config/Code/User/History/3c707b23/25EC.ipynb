{
 "cells": [
  {
   "cell_type": "code",
   "execution_count": 1,
   "metadata": {},
   "outputs": [
    {
     "name": "stderr",
     "output_type": "stream",
     "text": [
      "/home/nicklas/.local/lib/python3.10/site-packages/tqdm/auto.py:22: TqdmWarning: IProgress not found. Please update jupyter and ipywidgets. See https://ipywidgets.readthedocs.io/en/stable/user_install.html\n",
      "  from .autonotebook import tqdm as notebook_tqdm\n"
     ]
    },
    {
     "ename": "ModuleNotFoundError",
     "evalue": "No module named 'config.config'",
     "output_type": "error",
     "traceback": [
      "\u001b[0;31m---------------------------------------------------------------------------\u001b[0m",
      "\u001b[0;31mModuleNotFoundError\u001b[0m                       Traceback (most recent call last)",
      "\u001b[1;32m/home/nicklas/Projects/VaaliPerttu/test_model.ipynb Cell 1\u001b[0m in \u001b[0;36m<cell line: 12>\u001b[0;34m()\u001b[0m\n\u001b[1;32m     <a href='vscode-notebook-cell:/home/nicklas/Projects/VaaliPerttu/test_model.ipynb#W0sZmlsZQ%3D%3D?line=9'>10</a>\u001b[0m \u001b[39mfrom\u001b[39;00m \u001b[39mdata\u001b[39;00m\u001b[39m.\u001b[39;00m\u001b[39mdataloader_finetuning\u001b[39;00m \u001b[39mimport\u001b[39;00m VaalikoneDataset, VaalikoneDataModule\n\u001b[1;32m     <a href='vscode-notebook-cell:/home/nicklas/Projects/VaaliPerttu/test_model.ipynb#W0sZmlsZQ%3D%3D?line=10'>11</a>\u001b[0m \u001b[39mfrom\u001b[39;00m \u001b[39mmodels\u001b[39;00m\u001b[39m.\u001b[39;00m\u001b[39mmodel\u001b[39;00m \u001b[39mimport\u001b[39;00m VaalikoneClassifier\n\u001b[0;32m---> <a href='vscode-notebook-cell:/home/nicklas/Projects/VaaliPerttu/test_model.ipynb#W0sZmlsZQ%3D%3D?line=11'>12</a>\u001b[0m \u001b[39mfrom\u001b[39;00m \u001b[39mconfig\u001b[39;00m\u001b[39m.\u001b[39;00m\u001b[39mconfig\u001b[39;00m \u001b[39mimport\u001b[39;00m config\n\u001b[1;32m     <a href='vscode-notebook-cell:/home/nicklas/Projects/VaaliPerttu/test_model.ipynb#W0sZmlsZQ%3D%3D?line=13'>14</a>\u001b[0m \u001b[39m# Clean vaalit_2019.csv and save it to data/finetune.csv if it doesn't exist\u001b[39;00m\n\u001b[1;32m     <a href='vscode-notebook-cell:/home/nicklas/Projects/VaaliPerttu/test_model.ipynb#W0sZmlsZQ%3D%3D?line=14'>15</a>\u001b[0m data_path \u001b[39m=\u001b[39m \u001b[39m\"\u001b[39m\u001b[39mdata/finetune.csv\u001b[39m\u001b[39m\"\u001b[39m\n",
      "\u001b[0;31mModuleNotFoundError\u001b[0m: No module named 'config.config'"
     ]
    }
   ],
   "source": [
    "from pathlib import Path\n",
    "import os\n",
    "\n",
    "from transformers import pipeline\n",
    "from transformers import RobertaTokenizer, RobertaModel, AutoModel, AutoTokenizer\n",
    "import pandas as pd\n",
    "import torch\n",
    "\n",
    "# from data import Dataloader_finetuning\n",
    "from data.dataloader_finetuning import VaalikoneDataset, VaalikoneDataModule\n",
    "from models.model import VaalikoneClassifier\n",
    "from config.finetune_config import config\n",
    "\n",
    "# Clean vaalit_2019.csv and save it to data/finetune.csv if it doesn't exist\n",
    "data_path = \"data/finetune.csv\"\n",
    "if not os.path.exists(data_path):\n",
    "    print(\"Cleaning data\")\n",
    "    df = pd.read_csv(\"data/vaalit_2019.csv\")\n",
    "    \n",
    "    # Remove rows with empty strings\n",
    "    lappi_column_names = [col for col in df.columns if col[:6] == 'Lappi.']\n",
    "    df = df.dropna(subset=lappi_column_names)\n",
    "    # df = df[df.apply(lambda x: x.str.len().gt(0).all(), axis=1)]\n",
    "\n",
    "    # df.to_csv(data_path, index=False)\n",
    "    df.to_csv(data_path)\n",
    "\n",
    "# Create training, validation and test sets if they don't exist\n",
    "train_path = \"data/finetune_train.csv\"\n",
    "val_path = \"data/finetune_val.csv\"\n",
    "test_path = \"data/finetune_test.csv\"\n",
    "\n",
    "if not os.path.exists(train_path) or not os.path.exists(val_path) or not os.path.exists(test_path):\n",
    "    print(\"Creating train, val and test sets\")\n",
    "    df = pd.read_csv(data_path)\n",
    "    # df = df.sample(frac=1).reset_index(drop=True)\n",
    "    \n",
    "    # Split the data into train, val and test sets\n",
    "    train_df = df.iloc[:int(len(df) * 0.8)]\n",
    "    val_df = df.iloc[int(len(df) * 0.8):int(len(df) * 0.9)]\n",
    "    test_df = df.iloc[int(len(df) * 0.9):]\n",
    "    \n",
    "    train_df.to_csv(train_path, index=False)\n",
    "    val_df.to_csv(val_path, index=False)\n",
    "    test_df.to_csv(test_path, index=False)\n",
    "\n",
    "### Test dataset module\n",
    "# Load data\n",
    "ds_train = VaalikoneDataset(\n",
    "    path=config[\"train_path\"],\n",
    "    config=config)\n",
    "\n",
    "# dl_train.__getitem__(1)\n",
    "\n",
    "# ### Test pytorch-lightning module\n",
    "# datamodule = VaalikoneDataModule(\n",
    "#     train_path=config[\"train_path\"],\n",
    "#     val_path=config[\"val_path\"],\n",
    "#     test_path=config[\"test_path\"],\n",
    "#     tokenizer=tokenizer,\n",
    "#     config=config)\n",
    "# datamodule.setup()\n",
    "# dl_train2 = datamodule.train_dataloader()\n",
    "\n",
    "# print(len(dl_train2))\n",
    "# print(len(dl_train))\n",
    "\n",
    "classifier = VaalikoneClassifier(config=config)"
   ]
  },
  {
   "cell_type": "code",
   "execution_count": null,
   "metadata": {},
   "outputs": [
    {
     "name": "stdout",
     "output_type": "stream",
     "text": [
      "tensor([[0.1183, 0.0804, 0.5460, 0.2553],\n",
      "        [0.1697, 0.0753, 0.1503, 0.6047],\n",
      "        [0.1797, 0.0735, 0.3363, 0.4104],\n",
      "        [0.3192, 0.2329, 0.1303, 0.3176],\n",
      "        [0.2078, 0.0707, 0.5011, 0.2203]], grad_fn=<SoftmaxBackward0>)\n",
      "L_1                                                     5\n",
      "L_2                                                     5\n",
      "L_3                                                     1\n",
      "L_4                                                     4\n",
      "L_5                                                     1\n",
      "L_6     Kaivospaikkakunnat pitää saada hyötymään enemm...\n",
      "L_7     Työtehtävät voivat olla ympäri Lappia, tietoli...\n",
      "L_8     Lappi on laaja maakunta. Lappia ei voi asettaa...\n",
      "L_9                                       Ikuisuuskysymys\n",
      "L_10    Meri-Lapin satamien kautta tavara ulkomaille. ...\n",
      "Name: 1, dtype: object\n"
     ]
    }
   ],
   "source": [
    "idx = 1\n",
    "item = ds_train.__getitem__(idx)\n",
    "input_ids = item[\"input_ids\"]\n",
    "attention_mask = item[\"attention_mask\"]\n",
    "labels = item[\"labels\"]\n",
    "loss, logits = classifier(input_ids, attention_mask)\n",
    "\n",
    "# Softmax\n",
    "probs = torch.softmax(logits, dim=1)\n",
    "print(probs)\n",
    "print(ds_train.data.iloc[idx])"
   ]
  },
  {
   "cell_type": "code",
   "execution_count": null,
   "metadata": {},
   "outputs": [
    {
     "data": {
      "text/plain": [
       "(tensor([[  102, 37436,  2919, 10463,   751,  1202,  8268,   539,   947, 10002,\n",
       "           7452,   103],\n",
       "         [  102, 34484, 48922, 50008,  2046,   439,  2525, 48555,   119, 31177,\n",
       "          23184,   103],\n",
       "         [  102, 25100,   145,  5672,  8115,   111, 48555,   193,   326,  8242,\n",
       "           3140,   103],\n",
       "         [  102,   320, 37052, 25849,  2809,  2565,  7572,   103,     0,     0,\n",
       "              0,     0],\n",
       "         [  102, 13310,   166,  5333,  2898,  1477,  1315,  8810, 10287,   111,\n",
       "           2597,   103]]),\n",
       " [5, 5, 1, 4, 1],\n",
       " torch.Size([5, 12]))"
      ]
     },
     "execution_count": 3,
     "metadata": {},
     "output_type": "execute_result"
    }
   ],
   "source": [
    "input_ids, labels, input_ids.shape"
   ]
  }
 ],
 "metadata": {
  "kernelspec": {
   "display_name": "vaaliperttu",
   "language": "python",
   "name": "python3"
  },
  "language_info": {
   "codemirror_mode": {
    "name": "ipython",
    "version": 3
   },
   "file_extension": ".py",
   "mimetype": "text/x-python",
   "name": "python",
   "nbconvert_exporter": "python",
   "pygments_lexer": "ipython3",
   "version": "3.10.8"
  },
  "orig_nbformat": 4,
  "vscode": {
   "interpreter": {
    "hash": "8aea22ac87b4d7775a71809f35a847f66f81cf5bafffb9ad80f891cde983deb6"
   }
  }
 },
 "nbformat": 4,
 "nbformat_minor": 2
}
