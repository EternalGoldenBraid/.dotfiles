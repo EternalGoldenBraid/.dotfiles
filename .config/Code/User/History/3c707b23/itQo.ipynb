{
 "cells": [
  {
   "cell_type": "code",
   "execution_count": 1,
   "metadata": {},
   "outputs": [
    {
     "name": "stderr",
     "output_type": "stream",
     "text": [
      "/home/nicklas/.local/lib/python3.10/site-packages/tqdm/auto.py:22: TqdmWarning: IProgress not found. Please update jupyter and ipywidgets. See https://ipywidgets.readthedocs.io/en/stable/user_install.html\n",
      "  from .autonotebook import tqdm as notebook_tqdm\n"
     ]
    },
    {
     "ename": "TypeError",
     "evalue": "'module' object is not subscriptable",
     "output_type": "error",
     "traceback": [
      "\u001b[0;31m---------------------------------------------------------------------------\u001b[0m",
      "\u001b[0;31mTypeError\u001b[0m                                 Traceback (most recent call last)",
      "\u001b[1;32m/home/nicklas/Projects/VaaliPerttu/test_model.ipynb Cell 1\u001b[0m in \u001b[0;36m<cell line: 49>\u001b[0;34m()\u001b[0m\n\u001b[1;32m     <a href='vscode-notebook-cell:/home/nicklas/Projects/VaaliPerttu/test_model.ipynb#W0sZmlsZQ%3D%3D?line=44'>45</a>\u001b[0m     test_df\u001b[39m.\u001b[39mto_csv(test_path, index\u001b[39m=\u001b[39m\u001b[39mFalse\u001b[39;00m)\n\u001b[1;32m     <a href='vscode-notebook-cell:/home/nicklas/Projects/VaaliPerttu/test_model.ipynb#W0sZmlsZQ%3D%3D?line=46'>47</a>\u001b[0m \u001b[39m### Test dataset module\u001b[39;00m\n\u001b[1;32m     <a href='vscode-notebook-cell:/home/nicklas/Projects/VaaliPerttu/test_model.ipynb#W0sZmlsZQ%3D%3D?line=47'>48</a>\u001b[0m \u001b[39m# Load data\u001b[39;00m\n\u001b[1;32m     <a href='vscode-notebook-cell:/home/nicklas/Projects/VaaliPerttu/test_model.ipynb#W0sZmlsZQ%3D%3D?line=48'>49</a>\u001b[0m ds_train \u001b[39m=\u001b[39m VaalikoneDataset(\n\u001b[0;32m---> <a href='vscode-notebook-cell:/home/nicklas/Projects/VaaliPerttu/test_model.ipynb#W0sZmlsZQ%3D%3D?line=49'>50</a>\u001b[0m     path\u001b[39m=\u001b[39mconfig[\u001b[39m\"\u001b[39;49m\u001b[39mtrain_path\u001b[39;49m\u001b[39m\"\u001b[39;49m],\n\u001b[1;32m     <a href='vscode-notebook-cell:/home/nicklas/Projects/VaaliPerttu/test_model.ipynb#W0sZmlsZQ%3D%3D?line=50'>51</a>\u001b[0m     config\u001b[39m=\u001b[39mconfig)\n\u001b[1;32m     <a href='vscode-notebook-cell:/home/nicklas/Projects/VaaliPerttu/test_model.ipynb#W0sZmlsZQ%3D%3D?line=52'>53</a>\u001b[0m \u001b[39m# dl_train.__getitem__(1)\u001b[39;00m\n\u001b[1;32m     <a href='vscode-notebook-cell:/home/nicklas/Projects/VaaliPerttu/test_model.ipynb#W0sZmlsZQ%3D%3D?line=53'>54</a>\u001b[0m \n\u001b[1;32m     <a href='vscode-notebook-cell:/home/nicklas/Projects/VaaliPerttu/test_model.ipynb#W0sZmlsZQ%3D%3D?line=54'>55</a>\u001b[0m \u001b[39m# ### Test pytorch-lightning module\u001b[39;00m\n\u001b[0;32m   (...)\u001b[0m\n\u001b[1;32m     <a href='vscode-notebook-cell:/home/nicklas/Projects/VaaliPerttu/test_model.ipynb#W0sZmlsZQ%3D%3D?line=64'>65</a>\u001b[0m \u001b[39m# print(len(dl_train2))\u001b[39;00m\n\u001b[1;32m     <a href='vscode-notebook-cell:/home/nicklas/Projects/VaaliPerttu/test_model.ipynb#W0sZmlsZQ%3D%3D?line=65'>66</a>\u001b[0m \u001b[39m# print(len(dl_train))\u001b[39;00m\n\u001b[1;32m     <a href='vscode-notebook-cell:/home/nicklas/Projects/VaaliPerttu/test_model.ipynb#W0sZmlsZQ%3D%3D?line=67'>68</a>\u001b[0m classifier \u001b[39m=\u001b[39m VaalikoneClassifier(config\u001b[39m=\u001b[39mconfig)\n",
      "\u001b[0;31mTypeError\u001b[0m: 'module' object is not subscriptable"
     ]
    }
   ],
   "source": [
    "from pathlib import Path\n",
    "import os\n",
    "\n",
    "from transformers import pipeline\n",
    "from transformers import RobertaTokenizer, RobertaModel, AutoModel, AutoTokenizer\n",
    "import pandas as pd\n",
    "import torch\n",
    "\n",
    "# from data import Dataloader_finetuning\n",
    "from data.dataloader_finetuning import VaalikoneDataset, VaalikoneDataModule\n",
    "from models.model import VaalikoneClassifier\n",
    "from config.config import config\n",
    "\n",
    "# Clean vaalit_2019.csv and save it to data/finetune.csv if it doesn't exist\n",
    "data_path = \"data/finetune.csv\"\n",
    "if not os.path.exists(data_path):\n",
    "    print(\"Cleaning data\")\n",
    "    df = pd.read_csv(\"data/vaalit_2019.csv\")\n",
    "    \n",
    "    # Remove rows with empty strings\n",
    "    lappi_column_names = [col for col in df.columns if col[:6] == 'Lappi.']\n",
    "    df = df.dropna(subset=lappi_column_names)\n",
    "    # df = df[df.apply(lambda x: x.str.len().gt(0).all(), axis=1)]\n",
    "\n",
    "    # df.to_csv(data_path, index=False)\n",
    "    df.to_csv(data_path)\n",
    "\n",
    "# Create training, validation and test sets if they don't exist\n",
    "train_path = \"data/finetune_train.csv\"\n",
    "val_path = \"data/finetune_val.csv\"\n",
    "test_path = \"data/finetune_test.csv\"\n",
    "\n",
    "if not os.path.exists(train_path) or not os.path.exists(val_path) or not os.path.exists(test_path):\n",
    "    print(\"Creating train, val and test sets\")\n",
    "    df = pd.read_csv(data_path)\n",
    "    # df = df.sample(frac=1).reset_index(drop=True)\n",
    "    \n",
    "    # Split the data into train, val and test sets\n",
    "    train_df = df.iloc[:int(len(df) * 0.8)]\n",
    "    val_df = df.iloc[int(len(df) * 0.8):int(len(df) * 0.9)]\n",
    "    test_df = df.iloc[int(len(df) * 0.9):]\n",
    "    \n",
    "    train_df.to_csv(train_path, index=False)\n",
    "    val_df.to_csv(val_path, index=False)\n",
    "    test_df.to_csv(test_path, index=False)\n",
    "\n",
    "### Test dataset module\n",
    "# Load data\n",
    "ds_train = VaalikoneDataset(\n",
    "    path=config[\"train_path\"],\n",
    "    config=config)\n",
    "\n",
    "# dl_train.__getitem__(1)\n",
    "\n",
    "# ### Test pytorch-lightning module\n",
    "# datamodule = VaalikoneDataModule(\n",
    "#     train_path=config[\"train_path\"],\n",
    "#     val_path=config[\"val_path\"],\n",
    "#     test_path=config[\"test_path\"],\n",
    "#     tokenizer=tokenizer,\n",
    "#     config=config)\n",
    "# datamodule.setup()\n",
    "# dl_train2 = datamodule.train_dataloader()\n",
    "\n",
    "# print(len(dl_train2))\n",
    "# print(len(dl_train))\n",
    "\n",
    "classifier = VaalikoneClassifier(config=config)"
   ]
  },
  {
   "cell_type": "code",
   "execution_count": 2,
   "metadata": {},
   "outputs": [
    {
     "name": "stdout",
     "output_type": "stream",
     "text": [
      "tensor([[0.4279, 0.1262, 0.1930, 0.2528],\n",
      "        [0.2751, 0.3051, 0.1823, 0.2375],\n",
      "        [0.3148, 0.2540, 0.1082, 0.3230],\n",
      "        [0.3464, 0.1963, 0.0722, 0.3851],\n",
      "        [0.3377, 0.2429, 0.1890, 0.2304]], grad_fn=<SoftmaxBackward0>)\n",
      "L_1                                                     5\n",
      "L_2                                                     5\n",
      "L_3                                                     1\n",
      "L_4                                                     4\n",
      "L_5                                                     1\n",
      "L_6     Kaivospaikkakunnat pitää saada hyötymään enemm...\n",
      "L_7     Työtehtävät voivat olla ympäri Lappia, tietoli...\n",
      "L_8     Lappi on laaja maakunta. Lappia ei voi asettaa...\n",
      "L_9                                       Ikuisuuskysymys\n",
      "L_10    Meri-Lapin satamien kautta tavara ulkomaille. ...\n",
      "Name: 1, dtype: object\n"
     ]
    }
   ],
   "source": [
    "idx = 1\n",
    "item = ds_train.__getitem__(idx)\n",
    "input_ids = item[\"input_ids\"]\n",
    "attention_mask = item[\"attention_mask\"]\n",
    "labels = item[\"labels\"]\n",
    "loss, logits = classifier(input_ids, attention_mask)\n",
    "\n",
    "# Softmax\n",
    "probs = torch.softmax(logits, dim=1)\n",
    "print(probs)\n",
    "print(ds_train.data.iloc[idx])"
   ]
  },
  {
   "cell_type": "code",
   "execution_count": 12,
   "metadata": {},
   "outputs": [
    {
     "data": {
      "text/plain": [
       "(tensor([[  102, 37436,  2919,  ...,     0,     0,     0],\n",
       "         [  102, 34484, 48922,  ...,     0,     0,     0],\n",
       "         [  102, 25100,   145,  ...,     0,     0,     0],\n",
       "         [  102,   320, 37052,  ...,     0,     0,     0],\n",
       "         [  102, 13310,   166,  ...,     0,     0,     0]]),\n",
       " [5, 5, 1, 4, 1],\n",
       " torch.Size([5, 512]))"
      ]
     },
     "execution_count": 12,
     "metadata": {},
     "output_type": "execute_result"
    }
   ],
   "source": [
    "input_ids, labels, input_ids.shape"
   ]
  }
 ],
 "metadata": {
  "kernelspec": {
   "display_name": "vaaliperttu",
   "language": "python",
   "name": "python3"
  },
  "language_info": {
   "codemirror_mode": {
    "name": "ipython",
    "version": 3
   },
   "file_extension": ".py",
   "mimetype": "text/x-python",
   "name": "python",
   "nbconvert_exporter": "python",
   "pygments_lexer": "ipython3",
   "version": "3.10.8"
  },
  "orig_nbformat": 4,
  "vscode": {
   "interpreter": {
    "hash": "8aea22ac87b4d7775a71809f35a847f66f81cf5bafffb9ad80f891cde983deb6"
   }
  }
 },
 "nbformat": 4,
 "nbformat_minor": 2
}
