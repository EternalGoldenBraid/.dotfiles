{
 "cells": [
  {
   "cell_type": "code",
   "execution_count": 17,
   "metadata": {},
   "outputs": [],
   "source": [
    "import pandas as pd\n",
    "import numpy as np\n",
    "from transformers import pipeline\n",
    "from transformers import RobertaTokenizer, RobertaModel, AutoModel"
   ]
  },
  {
   "cell_type": "code",
   "execution_count": 4,
   "metadata": {},
   "outputs": [],
   "source": [
    "all_data = pd.read_csv(\"vaalit_2019.csv\")"
   ]
  },
  {
   "cell_type": "code",
   "execution_count": 18,
   "metadata": {},
   "outputs": [
    {
     "name": "stdout",
     "output_type": "stream",
     "text": [
      "<class 'pandas.core.frame.DataFrame'>\n",
      "RangeIndex: 2437 entries, 0 to 2436\n",
      "Columns: 212 entries, vaalipiiri to Lappi. Jäämeren rata pitää rakentaa..1\n",
      "dtypes: float64(5), int64(1), object(206)\n",
      "memory usage: 3.9+ MB\n",
      "None\n",
      "['Lappi. Lappiin ei saa avata yhtään uutta kaivosta ennen kuin yhtiöiltä aletaan periä kaivosveroa.', 'Lappi. Mahdollisen uuden maakuntahallinnon toimintoja ja työpaikkoja on sijoitettava muuallekin kuin Rovaniemelle.', 'Lappi. Lapin erikoissairaanhoito on keskitettävä kokonaan Rovaniemelle Lapin keskussairaalaan.', 'Lappi. Alkuperäiskansojen oikeuksia koskeva ILO-sopimus pitää ratifioida seuraavalla hallituskaudella. ', 'Lappi. Jäämeren rata pitää rakentaa.', 'Lappi. Lappiin ei saa avata yhtään uutta kaivosta ennen kuin yhtiöiltä aletaan periä kaivosveroa..1', 'Lappi. Mahdollisen uuden maakuntahallinnon toimintoja ja työpaikkoja on sijoitettava muuallekin kuin Rovaniemelle..1', 'Lappi. Lapin erikoissairaanhoito on keskitettävä kokonaan Rovaniemelle Lapin keskussairaalaan..1', 'Lappi. Alkuperäiskansojen oikeuksia koskeva ILO-sopimus pitää ratifioida seuraavalla hallituskaudella. .1', 'Lappi. Jäämeren rata pitää rakentaa..1'] 10\n"
     ]
    }
   ],
   "source": [
    "print(all_data.info())\n",
    "\n",
    "# Look at lappi related columns\n",
    "lappi_columns = [col for col in all_data.columns if col[:6] == 'Lappi.']\n",
    "print(lappi_columns, len(lappi_columns))\n",
    "\n",
    "# Print answers to a lappi question. We'll use these to test the encoder.\n",
    "lappi_question_idx = -1\n",
    "lappi_data = all_data[lappi_columns[lappi_question_idx]]"
   ]
  },
  {
   "cell_type": "code",
   "execution_count": 33,
   "metadata": {},
   "outputs": [
    {
     "data": {
      "text/plain": [
       "'Nykyinen ratasuunnitelma on todettu tutkimuksissa nykytilanteessa kannattamattomaksi. Lisäksi hanke aiheuttaa ongelmia ympäristölle ja alueen väestölle. Suunnitelmassa on kuitenkin yksi mielenkiintoinen osa. Junaradan jatkaminen Kemijärveltä Pyhätunturin kautta Sodankylään voisi olla toteuttamiskelpoinen ajatus.\\n\\nRatayhteys Jäämerelle voidaan saada aikaan toisella tavalla varsin helposti ja selvästi halvemmalla. Päivitetään nykyinen  Laurila-Tornio-Haaparanta ratayhteys. Tämän päivityksen hinta on vain murto-osa nyt suunnitellusta linjauksesta ja sillä saavutettaisiin ratayhteys Jäämeren ja Atlantin lisäksi myös keskeiseen Eurooppaan ja vaikka Välimerelle saakka. '"
      ]
     },
     "execution_count": 33,
     "metadata": {},
     "output_type": "execute_result"
    }
   ],
   "source": [
    "lappi_data.iloc[2432]"
   ]
  },
  {
   "cell_type": "code",
   "execution_count": 36,
   "metadata": {},
   "outputs": [
    {
     "name": "stdout",
     "output_type": "stream",
     "text": [
      "Nykyinen ratasuunnitelma on todettu tutkimuksissa nykytilanteessa kannattamattomaksi. Lisäksi hanke aiheuttaa ongelmia ympäristölle ja alueen väestölle. Suunnitelmassa on kuitenkin yksi mielenkiintoinen osa. Junaradan jatkaminen Kemijärveltä Pyhätunturin kautta Sodankylään voisi olla toteuttamiskelpoinen ajatus.\n",
      "\n",
      "Ratayhteys Jäämerelle voidaan saada aikaan toisella tavalla varsin helposti ja selvästi halvemmalla. Päivitetään nykyinen  Laurila-Tornio-Haaparanta ratayhteys. Tämän päivityksen hinta on vain murto-osa nyt suunnitellusta linjauksesta ja sillä saavutettaisiin ratayhteys Jäämeren ja Atlantin lisäksi myös keskeiseen Eurooppaan ja vaikka Välimerelle saakka. \n"
     ]
    }
   ],
   "source": [
    "print(lappi_data.iloc[2432])"
   ]
  },
  {
   "cell_type": "code",
   "execution_count": 37,
   "metadata": {},
   "outputs": [
    {
     "name": "stderr",
     "output_type": "stream",
     "text": [
      "Some weights of the model checkpoint at Finnish-NLP/roberta-large-finnish were not used when initializing RobertaModel: ['lm_head.bias', 'lm_head.dense.weight', 'lm_head.dense.bias', 'lm_head.layer_norm.bias', 'lm_head.layer_norm.weight']\n",
      "- This IS expected if you are initializing RobertaModel from the checkpoint of a model trained on another task or with another architecture (e.g. initializing a BertForSequenceClassification model from a BertForPreTraining model).\n",
      "- This IS NOT expected if you are initializing RobertaModel from the checkpoint of a model that you expect to be exactly identical (initializing a BertForSequenceClassification model from a BertForSequenceClassification model).\n",
      "Some weights of RobertaModel were not initialized from the model checkpoint at Finnish-NLP/roberta-large-finnish and are newly initialized: ['roberta.pooler.dense.weight', 'roberta.pooler.dense.bias']\n",
      "You should probably TRAIN this model on a down-stream task to be able to use it for predictions and inference.\n"
     ]
    }
   ],
   "source": [
    "tokenizer = RobertaTokenizer.from_pretrained('Finnish-NLP/roberta-large-finnish')\n",
    "model = RobertaModel.from_pretrained('Finnish-NLP/roberta-large-finnish')"
   ]
  },
  {
   "cell_type": "code",
   "execution_count": 39,
   "metadata": {},
   "outputs": [
    {
     "name": "stdout",
     "output_type": "stream",
     "text": [
      "BaseModelOutputWithPoolingAndCrossAttentions(last_hidden_state=tensor([[[ 0.9925, -0.2804,  0.0515,  ...,  0.9504, -0.0999,  0.6405],\n",
      "         [ 1.7736,  0.1815, -0.8647,  ...,  0.8231,  0.2149,  0.7865],\n",
      "         [ 0.2692, -0.4999,  0.3979,  ...,  0.3658,  0.0418,  0.9323],\n",
      "         ...,\n",
      "         [ 0.5091,  0.3476, -0.2135,  ...,  0.5232,  0.2879, -0.9866],\n",
      "         [ 1.8058,  0.2573,  0.4596,  ...,  0.0110,  0.3241, -1.6292],\n",
      "         [ 0.7662, -0.6481,  0.1958,  ..., -0.0296, -0.3188,  1.5189]]],\n",
      "       grad_fn=<NativeLayerNormBackward0>), pooler_output=tensor([[ 0.2203, -0.5763, -0.2142,  ...,  0.2957,  0.2482, -0.2921]],\n",
      "       grad_fn=<TanhBackward0>), hidden_states=None, past_key_values=None, attentions=None, cross_attentions=None)\n"
     ]
    }
   ],
   "source": [
    "text = lappi_data.iloc[2432]\n",
    "tokenized_input = tokenizer(text, return_tensors='pt')\n",
    "token_encodings = model(**tokenized_input)\n",
    "\n",
    "print(output)"
   ]
  },
  {
   "cell_type": "code",
   "execution_count": 49,
   "metadata": {},
   "outputs": [
    {
     "name": "stdout",
     "output_type": "stream",
     "text": [
      "torch.Size([1, 123])\n",
      "torch.Size([1, 123, 1024])\n"
     ]
    }
   ],
   "source": [
    "# Average pool the outputs into a single feature vector\n",
    "print(encoded_input['input_ids'].shape) # B, T\n",
    "print(output[0].shape) # B, T, D\n",
    "\n",
    "encoded\n"
   ]
  }
 ],
 "metadata": {
  "kernelspec": {
   "display_name": "vaaliperttu",
   "language": "python",
   "name": "python3"
  },
  "language_info": {
   "codemirror_mode": {
    "name": "ipython",
    "version": 3
   },
   "file_extension": ".py",
   "mimetype": "text/x-python",
   "name": "python",
   "nbconvert_exporter": "python",
   "pygments_lexer": "ipython3",
   "version": "3.10.8"
  },
  "orig_nbformat": 4,
  "vscode": {
   "interpreter": {
    "hash": "8aea22ac87b4d7775a71809f35a847f66f81cf5bafffb9ad80f891cde983deb6"
   }
  }
 },
 "nbformat": 4,
 "nbformat_minor": 2
}
