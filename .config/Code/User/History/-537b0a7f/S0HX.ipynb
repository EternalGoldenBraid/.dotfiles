{
 "cells": [
  {
   "cell_type": "code",
   "execution_count": 17,
   "metadata": {},
   "outputs": [],
   "source": [
    "import pandas as pd\n",
    "import numpy as np\n",
    "from transformers import pipeline\n",
    "from transformers import RobertaTokenizer, RobertaModel"
   ]
  },
  {
   "cell_type": "code",
   "execution_count": 4,
   "metadata": {},
   "outputs": [],
   "source": [
    "all_data = pd.read_csv(\"vaalit_2019.csv\")"
   ]
  },
  {
   "cell_type": "code",
   "execution_count": 14,
   "metadata": {},
   "outputs": [
    {
     "name": "stdout",
     "output_type": "stream",
     "text": [
      "<class 'pandas.core.frame.DataFrame'>\n",
      "RangeIndex: 2437 entries, 0 to 2436\n",
      "Columns: 212 entries, vaalipiiri to Lappi. Jäämeren rata pitää rakentaa..1\n",
      "dtypes: float64(5), int64(1), object(206)\n",
      "memory usage: 3.9+ MB\n",
      "None\n",
      "['Lappi. Lappiin ei saa avata yhtään uutta kaivosta ennen kuin yhtiöiltä aletaan periä kaivosveroa.', 'Lappi. Mahdollisen uuden maakuntahallinnon toimintoja ja työpaikkoja on sijoitettava muuallekin kuin Rovaniemelle.', 'Lappi. Lapin erikoissairaanhoito on keskitettävä kokonaan Rovaniemelle Lapin keskussairaalaan.', 'Lappi. Alkuperäiskansojen oikeuksia koskeva ILO-sopimus pitää ratifioida seuraavalla hallituskaudella. ', 'Lappi. Jäämeren rata pitää rakentaa.', 'Lappi. Lappiin ei saa avata yhtään uutta kaivosta ennen kuin yhtiöiltä aletaan periä kaivosveroa..1', 'Lappi. Mahdollisen uuden maakuntahallinnon toimintoja ja työpaikkoja on sijoitettava muuallekin kuin Rovaniemelle..1', 'Lappi. Lapin erikoissairaanhoito on keskitettävä kokonaan Rovaniemelle Lapin keskussairaalaan..1', 'Lappi. Alkuperäiskansojen oikeuksia koskeva ILO-sopimus pitää ratifioida seuraavalla hallituskaudella. .1', 'Lappi. Jäämeren rata pitää rakentaa..1'] 10\n"
     ]
    },
    {
     "data": {
      "text/plain": [
       "0                                                     NaN\n",
       "1                                                     NaN\n",
       "2                                                     NaN\n",
       "3                                                     NaN\n",
       "4                                                     NaN\n",
       "                              ...                        \n",
       "2432    Nykyinen ratasuunnitelma on todettu tutkimuksi...\n",
       "2433    Huoltovarmuuden kannalta pitää. Maamme viennis...\n",
       "2434    Toivon, että Jäämeren radasta järjestettäisiin...\n",
       "2435    Ehdottomasti. Useimmat eivät näe radan kaikkia...\n",
       "2436    Jos meillä olisi yhteys petsamoon, asia olisi ...\n",
       "Name: Lappi. Jäämeren rata pitää rakentaa..1, Length: 2437, dtype: object"
      ]
     },
     "execution_count": 14,
     "metadata": {},
     "output_type": "execute_result"
    }
   ],
   "source": [
    "print(all_data.info())\n",
    "\n",
    "# Look at lappi related columns\n",
    "lappi_columns = [col for col in all_data.columns if col[:6] == 'Lappi.']\n",
    "print(lappi_columns, len(lappi_columns))\n",
    "\n",
    "# Print answers to a lappi question. We'll use these to test the encoder.\n",
    "lappi_question_idx = -1\n",
    "all_data[lappi_columns[lappi_question_idx]]"
   ]
  },
  {
   "cell_type": "code",
   "execution_count": 16,
   "metadata": {},
   "outputs": [
    {
     "name": "stderr",
     "output_type": "stream",
     "text": [
      "Downloading: 100%|██████████| 703/703 [00:00<00:00, 915kB/s]\n",
      "Downloading: 100%|██████████| 1.32G/1.32G [00:34<00:00, 41.3MB/s] \n",
      "Downloading: 100%|██████████| 292/292 [00:00<00:00, 255kB/s]\n",
      "Downloading: 100%|██████████| 841k/841k [00:00<00:00, 1.45MB/s]\n",
      "Downloading: 100%|██████████| 507k/507k [00:00<00:00, 872kB/s] \n",
      "Downloading: 100%|██████████| 1.41M/1.41M [00:00<00:00, 1.55MB/s]\n",
      "Downloading: 100%|██████████| 239/239 [00:00<00:00, 226kB/s]\n"
     ]
    },
    {
     "data": {
      "text/plain": [
       "[{'score': 0.15357986092567444,\n",
       "  'token': 767,\n",
       "  'token_str': ' hyvä',\n",
       "  'sequence': 'Moikka olen hyvä kielimalli.'},\n",
       " {'score': 0.047950562089681625,\n",
       "  'token': 2888,\n",
       "  'token_str': ' paras',\n",
       "  'sequence': 'Moikka olen paras kielimalli.'},\n",
       " {'score': 0.04251487925648689,\n",
       "  'token': 3217,\n",
       "  'token_str': ' huono',\n",
       "  'sequence': 'Moikka olen huono kielimalli.'},\n",
       " {'score': 0.027469178661704063,\n",
       "  'token': 520,\n",
       "  'token_str': ' myös',\n",
       "  'sequence': 'Moikka olen myös kielimalli.'},\n",
       " {'score': 0.013878588564693928,\n",
       "  'token': 358,\n",
       "  'token_str': ' se',\n",
       "  'sequence': 'Moikka olen se kielimalli.'}]"
      ]
     },
     "execution_count": 16,
     "metadata": {},
     "output_type": "execute_result"
    }
   ],
   "source": [
    "unmasker = pipeline('fill-mask', model='Finnish-NLP/roberta-large-finnish')\n",
    "unmasker(\"Moikka olen <mask> kielimalli.\")"
   ]
  }
 ],
 "metadata": {
  "kernelspec": {
   "display_name": "vaaliperttu",
   "language": "python",
   "name": "python3"
  },
  "language_info": {
   "codemirror_mode": {
    "name": "ipython",
    "version": 3
   },
   "file_extension": ".py",
   "mimetype": "text/x-python",
   "name": "python",
   "nbconvert_exporter": "python",
   "pygments_lexer": "ipython3",
   "version": "3.10.8"
  },
  "orig_nbformat": 4,
  "vscode": {
   "interpreter": {
    "hash": "8aea22ac87b4d7775a71809f35a847f66f81cf5bafffb9ad80f891cde983deb6"
   }
  }
 },
 "nbformat": 4,
 "nbformat_minor": 2
}
