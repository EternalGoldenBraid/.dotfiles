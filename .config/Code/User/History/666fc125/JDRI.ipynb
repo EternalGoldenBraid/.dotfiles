{
 "cells": [
  {
   "cell_type": "code",
   "execution_count": 2,
   "id": "a8aff269",
   "metadata": {},
   "outputs": [],
   "source": [
    "import numpy as np\n",
    "import matplotlib.pyplot as plt\n",
    "from scipy.fftpack import fft,dct\n",
    "import librosa as lr\n",
    "from scipy import signal\n",
    "import librosa.display\n",
    "import soundfile as sf\n",
    "import sounddevice as sd\n",
    "\n",
    "from numpy.typing import ArrayLike, NDArray\n",
    "from typing import Tuple, List, Union"
   ]
  },
  {
   "cell_type": "markdown",
   "id": "3c27499d",
   "metadata": {},
   "source": [
    "### 1. Constant-Q spectrogram and chromagram (1 point)"
   ]
  },
  {
   "cell_type": "code",
   "execution_count": 3,
   "id": "0f6a129f",
   "metadata": {},
   "outputs": [],
   "source": [
    "def plot_grams(y: NDArray, fs: int, n_fft: int):\n",
    "\n",
    "    # Calculate the spectrogram\n",
    "    S: NDArray\n",
    "    S = lr.core.stft(y, n_fft=n_fft, win_length=n_fft//2, hop_length=n_fft//4)\n",
    "    \n",
    "    # Calculate the constant-Q Spectrogram\n",
    "    Q: NDArray\n",
    "    Q = lr.core.cqt(y, sr=fs)\n",
    "    \n",
    "    # Calculate the chromagram\n",
    "    C: NDArray\n",
    "    C = lr.feature.chroma_stft(y=y, sr=fs, n_fft=n_fft, win_length=n_fft//2, hop_length=n_fft//4)\n",
    "    \n",
    "    fig, ax = plt.subplots(3,1, figsize=(10,10))\n",
    "    img_1 = lr.display.specshow(lr.power_to_db(S, ref=np.max), x_axis='time', y_axis='mel', sr=fs, fmax=8000, ax=ax[0])\n",
    "    img_2 = lr.display.specshow(lr.power_to_db(Q, ref=np.max), x_axis='time', y_axis='mel', sr=fs, fmax=8000, ax=ax[1])\n",
    "    img_3 = lr.display.specshow(lr.power_to_db(C, ref=np.max), x_axis='time', y_axis='mel', sr=fs, fmax=8000, ax=ax[2])"
   ]
  },
  {
   "cell_type": "markdown",
   "id": "31b776b1",
   "metadata": {},
   "source": [
    "#### a) Load 'brahms_hungarian_dance_5_short.wav'"
   ]
  },
  {
   "cell_type": "code",
   "execution_count": 4,
   "id": "aeae3f2f",
   "metadata": {},
   "outputs": [],
   "source": [
    "# Load 'brahms_hungarian_dance_5_short.wav'\n"
   ]
  },
  {
   "cell_type": "markdown",
   "id": "438e4573",
   "metadata": {},
   "source": [
    "#### e) Plot, observe and report differences."
   ]
  },
  {
   "cell_type": "code",
   "execution_count": 8,
   "id": "cb5c9d14",
   "metadata": {},
   "outputs": [
    {
     "ename": "SyntaxError",
     "evalue": "invalid syntax (1979626430.py, line 3)",
     "output_type": "error",
     "traceback": [
      "\u001b[0;36m  Cell \u001b[0;32mIn [8], line 3\u001b[0;36m\u001b[0m\n\u001b[0;31m    if file.endswith('.wav')\u001b[0m\n\u001b[0m                            ^\u001b[0m\n\u001b[0;31mSyntaxError\u001b[0m\u001b[0;31m:\u001b[0m invalid syntax\n"
     ]
    }
   ],
   "source": [
    "import os\n",
    "for file in os.listdir(\".\"):\n",
    "    if file.endswith('.wav'):\n",
    "        print(file)\n",
    "a1: NDArray\n",
    "fs: int\n",
    "a1, fs = lr.load('brahms_hungarian_dance_5_short.wav', sr=None)\n",
    "print(\"Plot for \")\n",
    "plot_grams(y=a1, fs=fs, n_fft=2048)"
   ]
  },
  {
   "cell_type": "markdown",
   "id": "9592b7a3",
   "metadata": {},
   "source": [
    "#### a.1) load the audio file"
   ]
  },
  {
   "cell_type": "code",
   "execution_count": null,
   "id": "c39bf4bc",
   "metadata": {},
   "outputs": [],
   "source": []
  },
  {
   "cell_type": "markdown",
   "id": "83237651",
   "metadata": {},
   "source": [
    "#### a.2) Compute spectral novelty function"
   ]
  },
  {
   "cell_type": "code",
   "execution_count": null,
   "id": "43b7f5bb",
   "metadata": {},
   "outputs": [],
   "source": []
  },
  {
   "cell_type": "markdown",
   "id": "f374d906",
   "metadata": {},
   "source": [
    "#### a.3) Pick peaks"
   ]
  },
  {
   "cell_type": "code",
   "execution_count": null,
   "id": "bccf2d51",
   "metadata": {},
   "outputs": [],
   "source": []
  },
  {
   "cell_type": "markdown",
   "id": "67869e02",
   "metadata": {},
   "source": [
    "#### a.4) Convert frame indexes into time indexes"
   ]
  },
  {
   "cell_type": "code",
   "execution_count": null,
   "id": "a7b91991",
   "metadata": {},
   "outputs": [],
   "source": []
  },
  {
   "cell_type": "markdown",
   "id": "09ba5510",
   "metadata": {},
   "source": [
    "#### a.5) Plot onsets on top of the time domain signal. Report observations."
   ]
  },
  {
   "cell_type": "code",
   "execution_count": null,
   "id": "f1b2bc5e",
   "metadata": {},
   "outputs": [],
   "source": []
  },
  {
   "cell_type": "markdown",
   "id": "90520eca",
   "metadata": {},
   "source": [
    "#### a.6) Plot onsets on top of the spectrogram. Report observations."
   ]
  },
  {
   "cell_type": "code",
   "execution_count": null,
   "id": "fb7c8eca",
   "metadata": {},
   "outputs": [],
   "source": []
  },
  {
   "cell_type": "markdown",
   "id": "b0e8502e",
   "metadata": {},
   "source": [
    "### Add clicks to the onsets"
   ]
  },
  {
   "cell_type": "markdown",
   "id": "faf61cc3",
   "metadata": {},
   "source": [
    "#### b.1) Create a signal consisting of clicks at specified locations."
   ]
  },
  {
   "cell_type": "code",
   "execution_count": null,
   "id": "4dca1e0f",
   "metadata": {},
   "outputs": [],
   "source": []
  },
  {
   "cell_type": "markdown",
   "id": "a4d78901",
   "metadata": {},
   "source": [
    "#### b.2) Add the two signals together."
   ]
  },
  {
   "cell_type": "code",
   "execution_count": null,
   "id": "24d57b02",
   "metadata": {},
   "outputs": [],
   "source": []
  },
  {
   "cell_type": "markdown",
   "id": "9318d34d",
   "metadata": {},
   "source": [
    "#### b.2) Play it."
   ]
  },
  {
   "cell_type": "code",
   "execution_count": null,
   "id": "53ad418e",
   "metadata": {},
   "outputs": [],
   "source": []
  },
  {
   "cell_type": "markdown",
   "id": "24c7d0c7",
   "metadata": {},
   "source": [
    "#### b.3) Stack them to create stereo signal."
   ]
  },
  {
   "cell_type": "code",
   "execution_count": null,
   "id": "47b8340d",
   "metadata": {},
   "outputs": [],
   "source": []
  },
  {
   "cell_type": "markdown",
   "id": "2787d615",
   "metadata": {},
   "source": [
    "#### b.3) Play it."
   ]
  },
  {
   "cell_type": "code",
   "execution_count": null,
   "id": "390982c7",
   "metadata": {},
   "outputs": [],
   "source": []
  },
  {
   "cell_type": "markdown",
   "id": "79c9ba64",
   "metadata": {},
   "source": [
    "### Bonus problem: Implement your own spectral novelty function"
   ]
  },
  {
   "cell_type": "code",
   "execution_count": null,
   "id": "d59c489a",
   "metadata": {},
   "outputs": [],
   "source": []
  }
 ],
 "metadata": {
  "kernelspec": {
   "display_name": "audio",
   "language": "python",
   "name": "python3"
  },
  "language_info": {
   "codemirror_mode": {
    "name": "ipython",
    "version": 3
   },
   "file_extension": ".py",
   "mimetype": "text/x-python",
   "name": "python",
   "nbconvert_exporter": "python",
   "pygments_lexer": "ipython3",
   "version": "3.8.13"
  },
  "vscode": {
   "interpreter": {
    "hash": "80c05407fb20e4894f009afcd36dda6139dce98e116aad27b1f4b17bac2ccbfd"
   }
  }
 },
 "nbformat": 4,
 "nbformat_minor": 5
}
