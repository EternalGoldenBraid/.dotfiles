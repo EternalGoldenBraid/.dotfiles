{
 "cells": [
  {
   "cell_type": "code",
   "execution_count": 10,
   "metadata": {},
   "outputs": [],
   "source": [
    "\"\"\"\n",
    "This script computes the optimal SE(3) transformation between corresponding 2D and 3D points using non-linear optimiziation.\n",
    "\"\"\"\n",
    "import numpy as np\n",
    "from numpy.typing import NDArray\n",
    "import open3d as o3d\n",
    "import scipy"
   ]
  },
  {
   "cell_type": "code",
   "execution_count": 11,
   "metadata": {},
   "outputs": [],
   "source": [
    "# Define the 3D points in world coordinates\n",
    "points_3d = np.array([[1, 0, 0], [0, 1, 0], [0, 0, 1], [1, 1, 1]])\n",
    "\n",
    "# Define the 2D points in image coordinates\n",
    "points_2d = np.array([[0, 0], [0, 1], [1, 0], [1, 1]])\n",
    "\n",
    "# Define the camera intrinsic matrix\n",
    "K = np.array([[1.0, 0.0, 0.5], [0.0, 1.0, 0.5], [0.0, 0.0, 1.0]])\n",
    "\n",
    "# Define the initial camera extrinsic parameters\n",
    "R = np.eye(3)\n",
    "t = np.zeros(3)"
   ]
  },
  {
   "cell_type": "code",
   "execution_count": 12,
   "metadata": {},
   "outputs": [],
   "source": [
    "K = np.eye(3)\n",
    "\n",
    "def project(R: NDArray, t: NDArray, K: NDArray, points_3d: NDArray) -> NDArray:\n",
    "    \"\"\"\n",
    "    This function projects 3D points onto the image plane.\n",
    "    \"\"\"\n",
    "    # Compute the projection matrix\n",
    "    P = K @ np.hstack([R, t.reshape(-1, 1)])\n",
    "    \n",
    "    # Convert the 3D points to homogeneous coordinates\n",
    "    points_3d_h = np.hstack([points_3d, np.ones((points_3d.shape[0], 1))])\n",
    "    \n",
    "    # Project the 3D points onto the image plane\n",
    "    points_2d = P @ points_3d_h.T\n",
    "    points_2d = points_2d.T\n",
    "    points_2d = points_2d[:, :2] / points_2d[:, 2:]\n",
    "    \n",
    "    return points_2d\n",
    "\n",
    "# Define the optimization objective function\n",
    "def f(x: NDArray, points_3d, points_2d, K=K):\n",
    "    \"\"\"\n",
    "    This function computes the difference between the predicted and observed 2D points.\n",
    "    \"\"\"\n",
    "    # Unpack the angle-axis vector and translation vector\n",
    "    theta = x[0]\n",
    "    axis = x[1:3]\n",
    "    t = x[3:]\n",
    "    \n",
    "    # Compute the rotation matrix\n",
    "    R = o3d.geometry.get_rotation_matrix_from_axis_angle(theta*axis)\n",
    "    \n",
    "    # Project the 3D points onto the image plane\n",
    "    points_2d_pred = project(R, t, K, points_3d)\n",
    "    \n",
    "    # Compute the difference between the predicted and observed 2D points\n",
    "    diff = points_2d_pred - points_2d\n",
    "    diff = diff.reshape(-1)\n",
    "    return diff"
   ]
  },
  {
   "cell_type": "code",
   "execution_count": 13,
   "metadata": {},
   "outputs": [],
   "source": [
    "# Define the constraint functions\n",
    "def g1(x: NDArray):\n",
    "    \"\"\"\n",
    "    This function computes the constraint that the angle-axis vector must have unit norm.\n",
    "    \"\"\"\n",
    "    return np.linalg.norm(x[1:3]) - 1\n",
    "\n",
    "def g2(x: NDArray):\n",
    "    \"\"\"\n",
    "    This function computes the constraint that the translation vector must have unit norm.\n",
    "    \"\"\"\n",
    "    return np.linalg.norm(x[3:]) - 1\n",
    "\n",
    "# Define the angle constraint\n",
    "def g3(x: NDArray):\n",
    "    \"\"\"\n",
    "    This function computes the constraint that the angle must be between 0 and pi/2.\n",
    "    \"\"\"\n",
    "    return x[0] - np.pi/2"
   ]
  },
  {
   "cell_type": "code",
   "execution_count": null,
   "metadata": {},
   "outputs": [],
   "source": [
    "# Define KKT conditions\n",
    "def kkt(x: NDArray, points_3d, points_2d, K=K):\n",
    "    \"\"\"\n",
    "    This function computes the KKT conditions.\n",
    "    \"\"\"\n",
    "    # Compute the Jacobian of the objective function\n",
    "    J = scipy.optimize.approx_fprime(x, f, 1e-8, points_3d, points_2d, K)\n",
    "    \n",
    "    # Compute the Jacobian of the constraint functions\n",
    "    J1 = scipy.optimize.approx_fprime(x, g1, 1e-8)\n",
    "    J2 = scipy.optimize.approx_fprime(x, g2, 1e-8)\n",
    "    J3 = scipy.optimize.approx_fprime(x, g3, 1e-8)\n",
    "    \n",
    "    # Compute the KKT conditions\n",
    "    kkt = np.hstack([J, J1, J2, J3])\n",
    "    return kkt"
   ]
  },
  {
   "cell_type": "code",
   "execution_count": 16,
   "metadata": {},
   "outputs": [
    {
     "ename": "NameError",
     "evalue": "name 'run_optimization' is not defined",
     "output_type": "error",
     "traceback": [
      "\u001b[0;31m---------------------------------------------------------------------------\u001b[0m",
      "\u001b[0;31mNameError\u001b[0m                                 Traceback (most recent call last)",
      "Cell \u001b[0;32mIn [16], line 16\u001b[0m\n\u001b[1;32m      8\u001b[0m cons \u001b[39m=\u001b[39m ({\u001b[39m'\u001b[39m\u001b[39mtype\u001b[39m\u001b[39m'\u001b[39m: \u001b[39m'\u001b[39m\u001b[39meq\u001b[39m\u001b[39m'\u001b[39m, \u001b[39m'\u001b[39m\u001b[39mfun\u001b[39m\u001b[39m'\u001b[39m: g1}, {\u001b[39m'\u001b[39m\u001b[39mtype\u001b[39m\u001b[39m'\u001b[39m: \u001b[39m'\u001b[39m\u001b[39meq\u001b[39m\u001b[39m'\u001b[39m, \u001b[39m'\u001b[39m\u001b[39mfun\u001b[39m\u001b[39m'\u001b[39m: g2}, {\u001b[39m'\u001b[39m\u001b[39mtype\u001b[39m\u001b[39m'\u001b[39m: \u001b[39m'\u001b[39m\u001b[39mineq\u001b[39m\u001b[39m'\u001b[39m, \u001b[39m'\u001b[39m\u001b[39mfun\u001b[39m\u001b[39m'\u001b[39m: g3})\n\u001b[1;32m     10\u001b[0m \u001b[39m# Perform the optimization\u001b[39;00m\n\u001b[1;32m     11\u001b[0m \u001b[39m# res = scipy.optimize.minimize(f, x0, args=(points_3d, points_2d), \u001b[39;00m\n\u001b[1;32m     12\u001b[0m \u001b[39m#     # method='SLSQP',\u001b[39;00m\n\u001b[1;32m     13\u001b[0m \u001b[39m#     method='lm',\u001b[39;00m\n\u001b[1;32m     14\u001b[0m \u001b[39m#     bounds=bnds, constraints=cons)\u001b[39;00m\n\u001b[0;32m---> 16\u001b[0m res \u001b[39m=\u001b[39m run_optimization(f, x0, args\u001b[39m=\u001b[39m(points_3d, points_2d))\n\u001b[1;32m     18\u001b[0m \u001b[39m# Print the results\u001b[39;00m\n\u001b[1;32m     19\u001b[0m \u001b[39mprint\u001b[39m(res)\n",
      "\u001b[0;31mNameError\u001b[0m: name 'run_optimization' is not defined"
     ]
    }
   ],
   "source": [
    "# Define the initial guess\n",
    "x0 = np.array([0.0, 0.0, 0.0, 0.0, 0.0])\n",
    "\n",
    "# Define the bounds\n",
    "bnds = ((-np.inf, np.inf), (-1, 1), (-1, 1), (-np.inf, np.inf), (-np.inf, np.inf))\n",
    "\n",
    "# Define the constraints\n",
    "cons = ({'type': 'eq', 'fun': g1}, {'type': 'eq', 'fun': g2}, {'type': 'ineq', 'fun': g3})\n",
    "\n",
    "# Perform the optimization\n",
    "# res = scipy.optimize.minimize(f, x0, args=(points_3d, points_2d), \n",
    "#     # method='SLSQP',\n",
    "#     method='lm',\n",
    "#     bounds=bnds, constraints=cons)\n",
    "\n",
    "res = run_optimization(f, x0, args=(points_3d, points_2d))\n",
    "\n",
    "# Print the results\n",
    "print(res)\n",
    "\n",
    "# Unpack the angle-axis vector and translation vector\n",
    "theta = res.x[0]\n",
    "axis = res.x[1:3]\n",
    "t = res.x[3:]\n",
    "\n",
    "# Compute the rotation matrix\n",
    "R = o3d.geometry.get_rotation_matrix_from_axis_angle(theta*axis)\n",
    "\n",
    "# Print the rotation matrix\n",
    "print(R)\n",
    "\n",
    "# Print the translation vector\n",
    "print(t)\n",
    "\n",
    "# Project the 3D points onto the image plane\n",
    "points_2d_pred = project(R, t, K, points_3d)\n",
    "\n",
    "# Print the predicted 2D points\n",
    "print(points_2d_pred)\n",
    "\n",
    "# Print the observed 2D points\n",
    "print(points_2d)\n",
    "\n",
    "# Plot the 3D points\n",
    "pcd = o3d.geometry.PointCloud()\n",
    "pcd.points = o3d.utility.Vector3dVector(points_3d)\n",
    "o3d.visualization.draw_geometries([pcd])\n",
    "\n",
    "# Plot the 2D points\n",
    "pcd = o3d.geometry.PointCloud()\n",
    "pcd.points = o3d.utility.Vector3dVector(points_2d)\n",
    "o3d.visualization.draw_geometries([pcd])\n",
    "\n",
    "# Plot the predicted 2D points\n",
    "pcd = o3d.geometry.PointCloud()\n",
    "pcd.points = o3d.utility.Vector3dVector(points_2d_pred)\n",
    "o3d.visualization.draw_geometries([pcd])\n",
    "\n"
   ]
  },
  {
   "cell_type": "code",
   "execution_count": null,
   "metadata": {},
   "outputs": [],
   "source": []
  },
  {
   "cell_type": "code",
   "execution_count": null,
   "metadata": {},
   "outputs": [],
   "source": []
  }
 ],
 "metadata": {
  "kernelspec": {
   "display_name": "math",
   "language": "python",
   "name": "python3"
  },
  "language_info": {
   "codemirror_mode": {
    "name": "ipython",
    "version": 3
   },
   "file_extension": ".py",
   "mimetype": "text/x-python",
   "name": "python",
   "nbconvert_exporter": "python",
   "pygments_lexer": "ipython3",
   "version": "3.8.13"
  },
  "orig_nbformat": 4,
  "vscode": {
   "interpreter": {
    "hash": "97ac20a6ccadfa6908f42074cce5cb0054976ffef2f09c459ed88d5fc3d0fd62"
   }
  }
 },
 "nbformat": 4,
 "nbformat_minor": 2
}
