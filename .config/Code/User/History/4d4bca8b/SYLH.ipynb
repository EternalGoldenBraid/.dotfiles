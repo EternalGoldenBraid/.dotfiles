{
 "cells": [
  {
   "cell_type": "code",
   "execution_count": 2,
   "metadata": {},
   "outputs": [],
   "source": [
    "\"\"\"\n",
    "This script computes the optimal SE(3) transformation between corresponding 2D and 3D points using non-linear optimiziation.\n",
    "\"\"\"\n",
    "import numpy as np"
   ]
  },
  {
   "cell_type": "code",
   "execution_count": null,
   "metadata": {},
   "outputs": [],
   "source": [
    "def f()\n",
    "# Define the optimization objective function\n",
    "def objective(x, points_3d, points_2d):\n",
    "    # Unpack the angle-axis vector and translation vector\n",
    "    theta = x[:3]\n",
    "    t = x[3:]\n",
    "    \n",
    "    # Compute the rotation matrix\n",
    "    R = o3d.geometry.get_rotation_matrix_from_axis_angle(theta)\n",
    "    \n",
    "    # Project the 3D points onto the image plane\n",
    "    points_2d_pred = project(R, t, K, points_3d)\n",
    "    \n",
    "    # Compute the difference between the predicted and observed 2D points\n",
    "    diff = points_2d_pred - points_2d\n",
    "    diff = diff.reshape(-1)\n",
    "    return diff"
   ]
  }
 ],
 "metadata": {
  "kernelspec": {
   "display_name": "math",
   "language": "python",
   "name": "python3"
  },
  "language_info": {
   "codemirror_mode": {
    "name": "ipython",
    "version": 3
   },
   "file_extension": ".py",
   "mimetype": "text/x-python",
   "name": "python",
   "nbconvert_exporter": "python",
   "pygments_lexer": "ipython3",
   "version": "3.8.13"
  },
  "orig_nbformat": 4,
  "vscode": {
   "interpreter": {
    "hash": "97ac20a6ccadfa6908f42074cce5cb0054976ffef2f09c459ed88d5fc3d0fd62"
   }
  }
 },
 "nbformat": 4,
 "nbformat_minor": 2
}
