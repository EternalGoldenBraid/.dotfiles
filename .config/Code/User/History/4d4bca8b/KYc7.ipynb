{
 "cells": [
  {
   "cell_type": "code",
   "execution_count": 3,
   "metadata": {},
   "outputs": [
    {
     "name": "stdout",
     "output_type": "stream",
     "text": [
      "Jupyter environment detected. Enabling Open3D WebVisualizer.\n",
      "[Open3D INFO] WebRTC GUI backend enabled.\n",
      "[Open3D INFO] WebRTCWindowSystem: HTTP handshake server disabled.\n"
     ]
    }
   ],
   "source": [
    "\"\"\"\n",
    "This script computes the optimal SE(3) transformation between corresponding 2D and 3D points using non-linear optimiziation.\n",
    "\"\"\"\n",
    "import numpy as np\n",
    "from numpy.typing import NDArray\n",
    "import open3d as o3d"
   ]
  },
  {
   "cell_type": "code",
   "execution_count": 4,
   "metadata": {},
   "outputs": [],
   "source": [
    "# Define the 3D points in world coordinates\n",
    "points_3d = np.array([[1, 0, 0], [0, 1, 0], [0, 0, 1], [1, 1, 1]])\n",
    "\n",
    "# Define the 2D points in image coordinates\n",
    "points_2d = np.array([[0, 0], [0, 1], [1, 0], [1, 1]])\n",
    "\n",
    "# Define the camera intrinsic matrix\n",
    "K = np.array([[1.0, 0.0, 0.5], [0.0, 1.0, 0.5], [0.0, 0.0, 1.0]])\n",
    "\n",
    "# Define the initial camera extrinsic parameters\n",
    "R = np.eye(3)\n",
    "t = np.zeros(3)"
   ]
  },
  {
   "cell_type": "code",
   "execution_count": 5,
   "metadata": {},
   "outputs": [],
   "source": [
    "K = np.eye(3)\n",
    "\n",
    "def project(R: NDArray, t: NDArray, K: NDArray, points_3d: NDArray) -> NDArray:\n",
    "    \"\"\"\n",
    "    This function projects 3D points onto the image plane.\n",
    "    \"\"\"\n",
    "    # Compute the projection matrix\n",
    "    P = K @ np.hstack([R, t.reshape(-1, 1)])\n",
    "    \n",
    "    # Convert the 3D points to homogeneous coordinates\n",
    "    points_3d_h = np.hstack([points_3d, np.ones((points_3d.shape[0], 1))])\n",
    "    \n",
    "    # Project the 3D points onto the image plane\n",
    "    points_2d = P @ points_3d_h.T\n",
    "    points_2d = points_2d.T\n",
    "    points_2d = points_2d[:, :2] / points_2d[:, 2:]\n",
    "    \n",
    "    return points_2d\n",
    "\n",
    "# Define the optimization objective function\n",
    "def f(x: NDArray, points_3d, points_2d, K=K):\n",
    "    \"\"\"\n",
    "    This function computes the difference between the predicted and observed 2D points.\n",
    "    \"\"\"\n",
    "    # Unpack the angle-axis vector and translation vector\n",
    "    theta = x[0]\n",
    "    axis = x[1:3]\n",
    "    t = x[3:]\n",
    "    \n",
    "    # Compute the rotation matrix\n",
    "    R = o3d.geometry.get_rotation_matrix_from_axis_angle(theta*axis)\n",
    "    \n",
    "    # Project the 3D points onto the image plane\n",
    "    points_2d_pred = project(R, t, K, points_3d)\n",
    "    \n",
    "    # Compute the difference between the predicted and observed 2D points\n",
    "    diff = points_2d_pred - points_2d\n",
    "    diff = diff.reshape(-1)\n",
    "    return diff"
   ]
  },
  {
   "cell_type": "code",
   "execution_count": null,
   "metadata": {},
   "outputs": [],
   "source": [
    "\n"
   ]
  }
 ],
 "metadata": {
  "kernelspec": {
   "display_name": "math",
   "language": "python",
   "name": "python3"
  },
  "language_info": {
   "codemirror_mode": {
    "name": "ipython",
    "version": 3
   },
   "file_extension": ".py",
   "mimetype": "text/x-python",
   "name": "python",
   "nbconvert_exporter": "python",
   "pygments_lexer": "ipython3",
   "version": "3.8.13"
  },
  "orig_nbformat": 4,
  "vscode": {
   "interpreter": {
    "hash": "97ac20a6ccadfa6908f42074cce5cb0054976ffef2f09c459ed88d5fc3d0fd62"
   }
  }
 },
 "nbformat": 4,
 "nbformat_minor": 2
}
